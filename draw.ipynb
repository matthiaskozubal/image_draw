{
 "cells": [
  {
   "cell_type": "code",
   "execution_count": 1,
   "metadata": {},
   "outputs": [],
   "source": [
    "from dataclasses import dataclass\n",
    "from PIL import Image, ImageDraw\n",
    "from typing import List"
   ]
  },
  {
   "cell_type": "code",
   "execution_count": 2,
   "metadata": {},
   "outputs": [
    {
     "name": "stdout",
     "output_type": "stream",
     "text": [
      "### Global ###\n",
      "dimensions: (600, 337), n_rectangles: 2, padding_horizontal: 20, padding_vertical: 16\n",
      "centers: [150, 450], rectangle_width: 280, rectangle_half_width: 140, rectangle_height: 33\n",
      "\n",
      "### Individual ###\n",
      "--- rectangles ---\n",
      "rectangle 0: (10, 16, 290, 49)\n",
      "rectangle 1: (310, 16, 590, 49)\n",
      "--- triangles ---\n",
      "centers: 5\n"
     ]
    },
    {
     "data": {
      "image/png": "[encoded data removed]",
      "text/plain": [
       "<PIL.Image.Image image mode=RGB size=600x337 at 0x1F4A812F610>"
      ]
     },
     "metadata": {},
     "output_type": "display_data"
    }
   ],
   "source": [
    "def draw_case(n_rectangles: dict[int, int] = {1, 1},\n",
    "              triangles: List[int] = {0: 3},\n",
    "              background_size: (int, int) = [],\n",
    "              width: int = 600,\n",
    "              aspect_ratio: str = 'widescreen',\n",
    "              background_color: str ='#c1d5fa',\n",
    "              rectangle_color: str ='#1662f0',      \n",
    "              rectangle_outline_color: str ='#04112a',                      \n",
    "              rectangles: list[int] = [1],\n",
    "              min_rectangle_width: int = 10,\n",
    "              percent_of_height_for_rectangle_height: float = 0.10,\n",
    "              percent_of_width_for_padding_horizontal: float = 0.10,\n",
    "              percent_of_heigth_for_padding_vertical: float = 0.05\n",
    "              ) -> None: \n",
    "    \n",
    "    # dimensions\n",
    "    aspect_ratios = {'standard': 4/3, 'widescreen': 16/9}\n",
    "    if not background_size:\n",
    "        width = width\n",
    "        height = int(width/aspect_ratios[aspect_ratio])\n",
    "        background_size = (width, height)\n",
    "        \n",
    "    # draw background\n",
    "    im = Image.new(mode='RGB', size=background_size, color=background_color)\n",
    "    draw = ImageDraw.Draw(im)\n",
    "\n",
    "    # rectangles\n",
    "    n_rectangles = len(rectangles)\n",
    "    centers_rectangles=[int(width/(2*n_rectangles))*(1+2*i) for i in range(n_rectangles)]\n",
    "    ## padding, horizontal, between the edges and recatngles, and between the rectangles themselves\n",
    "    padding_horizontal = width*percent_of_width_for_padding_horizontal/(n_rectangles+1)\n",
    "    if padding_horizontal > 1:\n",
    "        padding_horizontal = int(padding_horizontal)\n",
    "    else: \n",
    "        padding_horizontal = 1\n",
    "    ## padding, vertical\n",
    "    padding_vertical = int(percent_of_heigth_for_padding_vertical*height)\n",
    "    ## width of each rectangle\n",
    "    rectangle_width = int(width/n_rectangles)-2*int(padding_horizontal/2)\n",
    "    if rectangle_width < min_rectangle_width:\n",
    "        rectangle_width = min_rectangle_width\n",
    "    rectangle_half_width = int(rectangle_width/2)\n",
    "    ## rectangle height\n",
    "    rectangle_height = int(percent_of_height_for_rectangle_height*height)\n",
    "    ## check\n",
    "    print(f'### Global ###\\ndimensions: ({width}, {height}), n_rectangles: {n_rectangles}, padding_horizontal: {padding_horizontal}, padding_vertical: {padding_vertical}\\ncenters: {centers_rectangles}, rectangle_width: {rectangle_width}, rectangle_half_width: {rectangle_half_width}, rectangle_height: {rectangle_height}\\n')\n",
    "    ## draw rectangles\n",
    "    print(f'### Individual ###\\n--- rectangles ---')\n",
    "    for i_rectangles in range(n_rectangles):\n",
    "        print(f'rectangle {i_rectangles}: ({centers_rectangles[i_rectangles]-rectangle_half_width}, {padding_vertical}, {centers_rectangles[i_rectangles]+rectangle_half_width}, {padding_vertical+rectangle_height})')\n",
    "        draw.rectangle([centers_rectangles[i_rectangles]-rectangle_half_width, padding_vertical, centers_rectangles[i_rectangles]+rectangle_half_width, padding_vertical+rectangle_height], fill=rectangle_color, outline=rectangle_outline_color, width=1)\n",
    "\n",
    "    # triangles\n",
    "    n_triangles = sum([len(sublist) for sublist in triangles])\n",
    "    centers_triangles = triangles\n",
    "    base_triangles = []\n",
    "    print(f'--- triangles ---\\ncenters: {n_triangles}')\n",
    "    draw.polygon([1,1, 10, 10, 100, 100], fill=rectangle_color, outline=rectangle_outline_color, width=1)\n",
    "    \n",
    "    \n",
    "\n",
    "    # finish\n",
    "    im.save('image1.jpg')\n",
    "    display(im)\n",
    "    \n",
    "#draw_case(background_size=(200, 50), background_color='red', rectangles=(1, 1))\n",
    "#draw_case(background_color='grey')\n",
    "draw_case(rectangles=(1, 1), triangles = [[0.2, 0.45, 0.1], [0.5, 0.25]])"
   ]
  },
  {
   "cell_type": "code",
   "execution_count": 3,
   "metadata": {},
   "outputs": [],
   "source": [
    "@dataclass\n",
    "class qroestl_case_problem_image():\n",
    "    pass    "
   ]
  },
  {
   "cell_type": "code",
   "execution_count": null,
   "metadata": {},
   "outputs": [],
   "source": []
  }
 ],
 "metadata": {
  "interpreter": {
   "hash": "b852b5cfcb9882c9a89a40e9f321dff708d96de2cce54c1e0f642a9469a70920"
  },
  "kernelspec": {
   "display_name": "Python 3.9.0 64-bit",
   "language": "python",
   "name": "python3"
  },
  "language_info": {
   "codemirror_mode": {
    "name": "ipython",
    "version": 3
   },
   "file_extension": ".py",
   "mimetype": "text/x-python",
   "name": "python",
   "nbconvert_exporter": "python",
   "pygments_lexer": "ipython3",
   "version": "3.10.0"
  },
  "orig_nbformat": 4
 },
 "nbformat": 4,
 "nbformat_minor": 2
}
