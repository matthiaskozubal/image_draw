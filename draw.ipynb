{
 "cells": [
  {
   "cell_type": "code",
   "execution_count": null,
   "metadata": {},
   "outputs": [],
   "source": [
    "from PIL import Image, ImageDraw"
   ]
  },
  {
   "cell_type": "code",
   "execution_count": null,
   "metadata": {},
   "outputs": [],
   "source": [
    "def draw_case(background_size: (int, int) = [],\n",
    "              n_rectangles: dict[int, int] = {1, 1},\n",
    "              width: int = 600,\n",
    "              aspect_ratio: str = 'widescreen',\n",
    "              background_color: str = 'white',\n",
    "              rectangles=(1)):\n",
    "    \n",
    "    aspect_ratios = {'standard': 4/3, 'widescreen': 16/9}\n",
    "    if not background_size:\n",
    "        width = width\n",
    "        height = int(width/aspect_ratios[aspect_ratio])\n",
    "        background_size = (width, height)\n",
    "        \n",
    "    im = Image.new(mode='RGB', size=background_size, color=background_color)\n",
    "    draw = ImageDraw.Draw(im)\n",
    "\n",
    "    im.save('image1.jpg')\n",
    "    display(im)\n",
    "    print(f'type(im): {type(im)}, background_size: {background_size}')\n",
    "    \n",
    "draw_case(background_size=(200, 50), background_color='red', rectangles=(1, 1))\n",
    "draw_case(background_color='red')"
   ]
  },
  {
   "cell_type": "code",
   "execution_count": null,
   "metadata": {},
   "outputs": [],
   "source": [
    "@dataclass\n",
    "class qroestl_case_problem_image():\n",
    "    pass    "
   ]
  }
 ],
 "metadata": {
  "interpreter": {
   "hash": "b852b5cfcb9882c9a89a40e9f321dff708d96de2cce54c1e0f642a9469a70920"
  },
  "kernelspec": {
   "display_name": "Python 3.9.0 64-bit",
   "language": "python",
   "name": "python3"
  },
  "language_info": {
   "name": "python",
   "version": "3.9.0"
  },
  "orig_nbformat": 4
 },
 "nbformat": 4,
 "nbformat_minor": 2
}
